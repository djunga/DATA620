{
 "cells": [
  {
   "attachments": {},
   "cell_type": "markdown",
   "metadata": {},
   "source": [
    "DATA 620 \\\n",
    "Week 2 Part 2: Centrality Measures \\\n",
    "Names: Tora Mullings & Coffy Andrews"
   ]
  },
  {
   "attachments": {},
   "cell_type": "markdown",
   "metadata": {},
   "source": [
    "Network data source: http://www-personal.umich.edu/~mejn/netdata/"
   ]
  },
  {
   "attachments": {},
   "cell_type": "markdown",
   "metadata": {},
   "source": [
    "In this network data, the nodes are political blogs and the edges are hyperlinks within the blogs that direct to other political blogs. Each node has a `value` attribute, where 0 means the blog is liberal and 1 means it is conservative. The data was taken around the time of the 2004 election.\n",
    "\n",
    "Since it is a .gml file, it can be loaded using the read_gml function from the networkx package.\n"
   ]
  },
  {
   "attachments": {},
   "cell_type": "markdown",
   "metadata": {},
   "source": [
    "## Context"
   ]
  },
  {
   "attachments": {},
   "cell_type": "markdown",
   "metadata": {},
   "source": [
    "* Liberals and conservatives usually stay within their own circles. According to [Pew Research Center](https://www.pewresearch.org/politics/2021/11/09/beyond-red-vs-blue-the-political-typology-2/), they feel they have little in common. What are the implications of this knowledge in terms of the hyperlinks in the blogs? We will assume that a blog contains more links to blogs of the same category than of the opposite category. For example, a liberal blogs contains more links to liberal blogs. It is an echo chamber environment.\n",
    "\n",
    "* This graph data does not express the degree to which the blogs are liberal/conservative. We can only assume they are either completely liberal or conservative. For example, if a blog happened to be moderate-right in reality, we would have no way of knowing because `value` would just be 1."
   ]
  },
  {
   "attachments": {},
   "cell_type": "markdown",
   "metadata": {},
   "source": [
    "## Hypotheses\n",
    "\n",
    "### Betweenness centrality\n",
    "For this situation, betweenness centrality would be highest among blogs that are moderate or “center”, rather than extremely liberal or conservative. The blogs that are not extreme in reality are more likely to contain hyperlinks to the other category’s blogs. These are the \"boundary spanners\", which allow for links between blogs of different categories. They break up the echo chamber somewhat. For example, a blog that is moderately liberal may have more links to conservative blogs than an extremely liberal blog does. However, we cannot explore this with the current data alone since it does not contain information about where the blogs lie on a political spectrum.\n",
    "\n",
    "### Degree centrality \n",
    "Probably the same, assuming there is the same number of liberal and conservative blogs. Liberal blogs probably are linked to and are linked out to as many other liberal blogs as vice versa for conservative blogs. One way to verify this would be to use histograms. Histograms of each category’s node degrees would likely appear the same.\n",
    "\n",
    "### Eigenvector centrality\n",
    "What does does a high eigenvector centrality mean in this context? It is a blog that contains links to other blogs that have themselves many incoming links and/or many outgoing links. A blog node with high eigenvector centrality would be good for exploring other blogs. The numder of such nodes probably would not vary much between the categories.\n"
   ]
  }
 ],
 "metadata": {
  "kernelspec": {
   "display_name": "Python 3",
   "language": "python",
   "name": "python3"
  },
  "language_info": {
   "codemirror_mode": {
    "name": "ipython",
    "version": 3
   },
   "file_extension": ".py",
   "mimetype": "text/x-python",
   "name": "python",
   "nbconvert_exporter": "python",
   "pygments_lexer": "ipython3",
   "version": "3.10.0"
  },
  "orig_nbformat": 4
 },
 "nbformat": 4,
 "nbformat_minor": 2
}
